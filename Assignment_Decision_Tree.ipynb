{
  "nbformat": 4,
  "nbformat_minor": 0,
  "metadata": {
    "colab": {
      "provenance": [],
      "authorship_tag": "ABX9TyMSF2dtPT3dwUUGYfzyGmu8",
      "include_colab_link": true
    },
    "kernelspec": {
      "name": "python3",
      "display_name": "Python 3"
    },
    "language_info": {
      "name": "python"
    }
  },
  "cells": [
    {
      "cell_type": "markdown",
      "metadata": {
        "id": "view-in-github",
        "colab_type": "text"
      },
      "source": [
        "<a href=\"https://colab.research.google.com/github/PritamKhan/Data_Analytics/blob/master/Assignment_Decision_Tree.ipynb\" target=\"_parent\"><img src=\"https://colab.research.google.com/assets/colab-badge.svg\" alt=\"Open In Colab\"/></a>"
      ]
    },
    {
      "cell_type": "markdown",
      "source": [
        "###Theoretical\n",
        "\n",
        "\n",
        "\n",
        "1. What is a Decision Tree, and how does it work?\n",
        "-> A Decision Tree is a flowchart-like model used for classification or regression. It splits data into branches based on feature values, making decisions at each node until a final prediction is made at the leaf node.\n",
        "\n",
        "\n",
        "\n",
        "2. What are impurity measures in Decision Trees?\n",
        "-> Impurity measures are metrics used to determine how mixed the classes are in a node. They help decide the best feature to split the data. Lower impurity means the data is more \"pure\" (i.e., mostly one class).\n",
        "\n",
        "\n",
        "\n",
        "3. What is the mathematical formula for Gini Impurity?\n",
        "->\n",
        "$$\n",
        "Gini = 1 - \\sum_{i=1}^{n} p_i^2\n",
        "$$\n",
        "\n",
        "Where $p_i$ is the probability of class $i$ in the node.\n",
        "\n",
        "\n",
        "4. What is the mathematical formula for Entropy?\n",
        "->\n",
        "$$\n",
        "Entropy = - \\sum_{i=1}^{n} p_i \\log_2(p_i)\n",
        "$$\n",
        "\n",
        "Where $p_i$ is the probability of class $i$ in the node.\n",
        "\n",
        "\n",
        "\n",
        "5. What is Information Gain, and how is it used in Decision Trees?\n",
        "-> Information Gain is the reduction in impurity after a split. It's calculated as:\n",
        "\n",
        "$$\n",
        "Information\\ Gain = Entropy_{parent} - \\sum \\left( \\frac{n_i}{n} \\times Entropy_i \\right)\n",
        "$$\n",
        "\n",
        "The feature with the highest Information Gain is selected for splitting.\n",
        "\n",
        "\n",
        "\n",
        "6. What is the difference between Gini Impurity and Entropy?\n",
        "-> Both measure impurity, but Gini is faster to compute and often used by default. Entropy involves logarithms and is slightly more computationally expensive. Results are usually similar.\n",
        "\n",
        "\n",
        "\n",
        "7. What is the mathematical explanation behind Decision Trees?\n",
        "-> A Decision Tree uses a greedy algorithm to recursively split the dataset based on the feature that provides the best impurity reduction (like Gini or Entropy). This forms a tree structure with internal nodes (splits) and leaf nodes (outputs).\n",
        "\n",
        "\n",
        "\n",
        "8. What is Pre-Pruning in Decision Trees?\n",
        "-> Pre-Pruning stops the tree from growing when a condition is met (like max depth or minimum samples). It prevents the model from overfitting by limiting complexity during training.\n",
        "\n",
        "\n",
        "\n",
        "9. What is Post-Pruning in Decision Trees?\n",
        "-> Post-Pruning allows the tree to grow fully, then trims back some branches based on performance on validation data to reduce overfitting and improve generalization.\n",
        "\n",
        "\n",
        "\n",
        "10. What is the difference between Pre-Pruning and Post-Pruning?\n",
        "->\n",
        "* Pre-Pruning: Stops tree early during training.\n",
        "* Post-Pruning: Grows full tree, then prunes it back.\n",
        "  Post-pruning often gives better results but is more computationally expensive.\n",
        "\n",
        "\n",
        "\n",
        "11. What is a Decision Tree Regressor?\n",
        "-> A Decision Tree Regressor predicts continuous numeric values instead of classes. It splits data to minimize the variance (or mean squared error) in the target values.\n",
        "\n",
        "\n",
        "\n",
        "12. What are the advantages and disadvantages of Decision Trees?\n",
        "-> Advantages:\n",
        "\n",
        "* Easy to understand and visualize\n",
        "* Handles both numerical and categorical data\n",
        "* Requires little data preparation\n",
        "\n",
        "Disadvantages:\n",
        "\n",
        "* Prone to overfitting\n",
        "* Can be unstable with small changes in data\n",
        "* Greedy nature may not find global optimum\n",
        "\n",
        "\n",
        "\n",
        "13. How does a Decision Tree handle missing values?\n",
        "-> Some implementations handle missing values by:\n",
        "\n",
        "* Splitting based on available features\n",
        "* Using surrogate splits (alternative splits)\n",
        "* Assigning samples probabilistically across branches\n",
        "\n",
        "\n",
        "\n",
        "14. How does a Decision Tree handle categorical features?\n",
        "-> Categorical features can be directly used by splitting based on each category or grouping them. Most libraries (like scikit-learn) handle this automatically after encoding.\n",
        "\n",
        "\n",
        "\n",
        "15. What are some real-world applications of Decision Trees?\n",
        "->\n",
        "* Medical diagnosis\n",
        "* Customer churn prediction\n",
        "* Credit risk assessment\n",
        "* Fraud detection\n",
        "* Loan approval\n",
        "* Marketing segmentation\n",
        "\n",
        "\n"
      ],
      "metadata": {
        "id": "ogEUp0aoauoh"
      }
    },
    {
      "cell_type": "markdown",
      "source": [
        "###Practical"
      ],
      "metadata": {
        "id": "-_MhxeTwdMVL"
      }
    },
    {
      "cell_type": "code",
      "execution_count": null,
      "metadata": {
        "colab": {
          "base_uri": "https://localhost:8080/"
        },
        "id": "icMiLQ-LZPkI",
        "outputId": "1f8408f3-4b33-4980-fcb8-77cbeee85341"
      },
      "outputs": [
        {
          "output_type": "stream",
          "name": "stdout",
          "text": [
            "Accuracy: 1.0\n"
          ]
        }
      ],
      "source": [
        "# 16. Write a Python program to train a Decision Tree Classifier on the Iris dataset and print the model accuracy\n",
        "\n",
        "\n",
        "from sklearn.datasets import load_iris\n",
        "from sklearn.tree import DecisionTreeClassifier\n",
        "from sklearn.model_selection import train_test_split\n",
        "from sklearn.metrics import accuracy_score\n",
        "\n",
        "iris = load_iris()\n",
        "X_train, X_test, y_train, y_test = train_test_split(iris.data, iris.target, test_size=0.2, random_state=42)\n",
        "\n",
        "clf = DecisionTreeClassifier(random_state=42)\n",
        "clf.fit(X_train, y_train)\n",
        "\n",
        "print(\"Accuracy:\", accuracy_score(y_test, clf.predict(X_test)))"
      ]
    },
    {
      "cell_type": "code",
      "source": [
        "# 17. Write a Python program to train a Decision Tree Classifier using Gini Impurity as the criterion and print the feature importances\n",
        "\n",
        "\n",
        "clf = DecisionTreeClassifier(criterion='gini', random_state=42)\n",
        "clf.fit(X_train, y_train)\n",
        "\n",
        "for feature, importance in zip(iris.feature_names, clf.feature_importances_):\n",
        "    print(f\"{feature}: {importance:.4f}\")"
      ],
      "metadata": {
        "colab": {
          "base_uri": "https://localhost:8080/"
        },
        "id": "ksfsAFoDdelv",
        "outputId": "712db38a-627e-435a-dd28-7010db3ea251"
      },
      "execution_count": null,
      "outputs": [
        {
          "output_type": "stream",
          "name": "stdout",
          "text": [
            "sepal length (cm): 0.0000\n",
            "sepal width (cm): 0.0167\n",
            "petal length (cm): 0.9061\n",
            "petal width (cm): 0.0772\n"
          ]
        }
      ]
    },
    {
      "cell_type": "code",
      "source": [
        "# 18. Write a Python program to train a Decision Tree Classifier using Entropy as the splitting criterion and print the model accuracy\n",
        "\n",
        "clf = DecisionTreeClassifier(criterion='entropy', random_state=42)\n",
        "clf.fit(X_train, y_train)\n",
        "\n",
        "print(\"Accuracy:\", accuracy_score(y_test, clf.predict(X_test)))"
      ],
      "metadata": {
        "colab": {
          "base_uri": "https://localhost:8080/"
        },
        "id": "9-yc-LUKd7bO",
        "outputId": "6b526373-34d2-46f2-c593-e5afb45eef33"
      },
      "execution_count": null,
      "outputs": [
        {
          "output_type": "stream",
          "name": "stdout",
          "text": [
            "Accuracy: 1.0\n"
          ]
        }
      ]
    },
    {
      "cell_type": "code",
      "source": [
        "# 19. Write a Python program to train a Decision Tree Regressor on a housing dataset and evaluate using Mean Squared Error (MSE)\n",
        "\n",
        "\n",
        "from sklearn.datasets import fetch_california_housing\n",
        "from sklearn.tree import DecisionTreeRegressor\n",
        "from sklearn.metrics import mean_squared_error\n",
        "\n",
        "data = fetch_california_housing()\n",
        "X_train, X_test, y_train, y_test = train_test_split(data.data, data.target, test_size=0.2, random_state=42)\n",
        "\n",
        "reg = DecisionTreeRegressor(random_state=42)\n",
        "reg.fit(X_train, y_train)\n",
        "\n",
        "print(\"MSE:\", mean_squared_error(y_test, reg.predict(X_test)))"
      ],
      "metadata": {
        "colab": {
          "base_uri": "https://localhost:8080/"
        },
        "id": "imLKdg7leFv2",
        "outputId": "c14da060-d8cd-40bf-865b-bedcea90194d"
      },
      "execution_count": null,
      "outputs": [
        {
          "output_type": "stream",
          "name": "stdout",
          "text": [
            "MSE: 0.495235205629094\n"
          ]
        }
      ]
    },
    {
      "cell_type": "code",
      "source": [
        "# 20. Write a Python program to train a Decision Tree Classifier and visualize the tree using graphviz\n",
        "from sklearn.datasets import load_iris\n",
        "from sklearn.model_selection import train_test_split\n",
        "from sklearn.tree import DecisionTreeClassifier, export_graphviz\n",
        "import graphviz\n",
        "\n",
        "# Load the iris dataset\n",
        "iris = load_iris()\n",
        "X = iris.data\n",
        "y = iris.target  # <-- Discrete class labels (0, 1, 2)\n",
        "\n",
        "# Split dataset into train and test\n",
        "X_train, X_test, y_train, y_test = train_test_split(X, y, random_state=42)\n",
        "\n",
        "# Train Decision Tree Classifier\n",
        "clf = DecisionTreeClassifier()\n",
        "clf.fit(X_train, y_train)\n",
        "\n",
        "# Export the tree to DOT format and visualize using graphviz\n",
        "dot_data = export_graphviz(\n",
        "    clf,\n",
        "    out_file=None,\n",
        "    feature_names=iris.feature_names,\n",
        "    class_names=iris.target_names,\n",
        "    filled=True,\n",
        "    rounded=True\n",
        ")\n",
        "\n",
        "graph = graphviz.Source(dot_data)\n",
        "graph.render(\"iris_tree\", format=\"png\", cleanup=True)"
      ],
      "metadata": {
        "colab": {
          "base_uri": "https://localhost:8080/",
          "height": 35
        },
        "id": "v7HCJReleOPy",
        "outputId": "00681d33-b568-48f7-d5f5-b16ae8136d7f"
      },
      "execution_count": null,
      "outputs": [
        {
          "output_type": "execute_result",
          "data": {
            "text/plain": [
              "'iris_tree.png'"
            ],
            "application/vnd.google.colaboratory.intrinsic+json": {
              "type": "string"
            }
          },
          "metadata": {},
          "execution_count": 7
        }
      ]
    },
    {
      "cell_type": "code",
      "source": [
        "# 21. Write a Python program to train a Decision Tree Classifier with a maximum depth of 3 and compare its accuracy with a fully grown tree\n",
        "\n",
        "\n",
        "clf_shallow = DecisionTreeClassifier(max_depth=3, random_state=42).fit(X_train, y_train)\n",
        "clf_full = DecisionTreeClassifier(random_state=42).fit(X_train, y_train)\n",
        "\n",
        "print(\"Shallow Tree Accuracy:\", accuracy_score(y_test, clf_shallow.predict(X_test)))\n",
        "print(\"Full Tree Accuracy:\", accuracy_score(y_test, clf_full.predict(X_test)))"
      ],
      "metadata": {
        "id": "DsXQITf6eUuO",
        "colab": {
          "base_uri": "https://localhost:8080/"
        },
        "outputId": "73d92802-f631-457a-e9b8-e6bf5a5bc43c"
      },
      "execution_count": 8,
      "outputs": [
        {
          "output_type": "stream",
          "name": "stdout",
          "text": [
            "Shallow Tree Accuracy: 1.0\n",
            "Full Tree Accuracy: 1.0\n"
          ]
        }
      ]
    },
    {
      "cell_type": "code",
      "source": [
        "# 22. Write a Python program to train a Decision Tree Classifier using min_samples_split=5 and compare its accuracy with a default tree\n",
        "\n",
        "\n",
        "clf_custom = DecisionTreeClassifier(min_samples_split=5, random_state=42).fit(X_train, y_train)\n",
        "clf_default = DecisionTreeClassifier(random_state=42).fit(X_train, y_train)\n",
        "\n",
        "print(\"min_samples_split=5 Accuracy:\", accuracy_score(y_test, clf_custom.predict(X_test)))\n",
        "print(\"Default Tree Accuracy:\", accuracy_score(y_test, clf_default.predict(X_test)))"
      ],
      "metadata": {
        "id": "YQPUuBtFk838",
        "colab": {
          "base_uri": "https://localhost:8080/"
        },
        "outputId": "2df83020-0e21-4e56-b6f6-be6ff9b16aa1"
      },
      "execution_count": 9,
      "outputs": [
        {
          "output_type": "stream",
          "name": "stdout",
          "text": [
            "min_samples_split=5 Accuracy: 1.0\n",
            "Default Tree Accuracy: 1.0\n"
          ]
        }
      ]
    },
    {
      "cell_type": "code",
      "source": [
        "# 23. Write a Python program to apply feature scaling before training a Decision Tree Classifier and compare its accuracy with unscaled data\n",
        "\n",
        "\n",
        "from sklearn.preprocessing import StandardScaler\n",
        "\n",
        "scaler = StandardScaler()\n",
        "X_scaled = scaler.fit_transform(iris.data)\n",
        "X_train_s, X_test_s, y_train_s, y_test_s = train_test_split(X_scaled, iris.target, test_size=0.2, random_state=42)\n",
        "\n",
        "clf_scaled = DecisionTreeClassifier(random_state=42).fit(X_train_s, y_train_s)\n",
        "clf_unscaled = DecisionTreeClassifier(random_state=42).fit(X_train, y_train)\n",
        "\n",
        "print(\"With Scaling Accuracy:\", accuracy_score(y_test_s, clf_scaled.predict(X_test_s)))\n",
        "print(\"Without Scaling Accuracy:\", accuracy_score(y_test, clf_unscaled.predict(X_test)))"
      ],
      "metadata": {
        "id": "5bnkrVotlDIN",
        "colab": {
          "base_uri": "https://localhost:8080/"
        },
        "outputId": "e55adb27-79e0-44b9-a7a3-fb12e988a9b4"
      },
      "execution_count": 10,
      "outputs": [
        {
          "output_type": "stream",
          "name": "stdout",
          "text": [
            "With Scaling Accuracy: 1.0\n",
            "Without Scaling Accuracy: 1.0\n"
          ]
        }
      ]
    },
    {
      "cell_type": "code",
      "source": [
        "# 24. Write a Python program to train a Decision Tree Classifier using One-vs-Rest (OvR) strategy for multiclass classification\n",
        "\n",
        "\n",
        "from sklearn.multiclass import OneVsRestClassifier\n",
        "\n",
        "ovr_clf = OneVsRestClassifier(DecisionTreeClassifier(random_state=42))\n",
        "ovr_clf.fit(X_train, y_train)\n",
        "\n",
        "print(\"OvR Accuracy:\", accuracy_score(y_test, ovr_clf.predict(X_test)))"
      ],
      "metadata": {
        "colab": {
          "base_uri": "https://localhost:8080/"
        },
        "id": "1Y5dKSpYoKF3",
        "outputId": "01a3fb97-fde6-4ca3-cac1-914e0e5456c1"
      },
      "execution_count": 11,
      "outputs": [
        {
          "output_type": "stream",
          "name": "stdout",
          "text": [
            "OvR Accuracy: 1.0\n"
          ]
        }
      ]
    },
    {
      "cell_type": "code",
      "source": [
        "# 25. Write a Python program to train a Decision Tree Classifier and display the feature importance scores\n",
        "\n",
        "\n",
        "clf.fit(X_train, y_train)\n",
        "importances = clf.feature_importances_\n",
        "\n",
        "for feature, importance in zip(iris.feature_names, importances):\n",
        "    print(f\"{feature}: {importance:.4f}\")"
      ],
      "metadata": {
        "colab": {
          "base_uri": "https://localhost:8080/"
        },
        "id": "s5atcivNoSGU",
        "outputId": "a74442c3-1cfa-484b-b4a7-700e52450720"
      },
      "execution_count": 12,
      "outputs": [
        {
          "output_type": "stream",
          "name": "stdout",
          "text": [
            "sepal length (cm): 0.0179\n",
            "sepal width (cm): 0.0179\n",
            "petal length (cm): 0.3979\n",
            "petal width (cm): 0.5663\n"
          ]
        }
      ]
    },
    {
      "cell_type": "code",
      "source": [
        "# 26. Write a Python program to train a Decision Tree Regressor with max_depth=5 and compare its performance with an unrestricted tree\n",
        "\n",
        "\n",
        "reg_restricted = DecisionTreeRegressor(max_depth=5, random_state=42).fit(X_train, y_train)\n",
        "reg_unrestricted = DecisionTreeRegressor(random_state=42).fit(X_train, y_train)\n",
        "\n",
        "print(\"Restricted Tree MSE:\", mean_squared_error(y_test, reg_restricted.predict(X_test)))\n",
        "print(\"Unrestricted Tree MSE:\", mean_squared_error(y_test, reg_unrestricted.predict(X_test)))"
      ],
      "metadata": {
        "colab": {
          "base_uri": "https://localhost:8080/"
        },
        "id": "k2SAxHeTom-R",
        "outputId": "9627bf95-e405-4b77-ae21-5fc2bec08eb3"
      },
      "execution_count": 14,
      "outputs": [
        {
          "output_type": "stream",
          "name": "stdout",
          "text": [
            "Restricted Tree MSE: 0.0\n",
            "Unrestricted Tree MSE: 0.0\n"
          ]
        }
      ]
    },
    {
      "cell_type": "code",
      "source": [
        "# 27. Write a Python program to train a Decision Tree Classifier, apply Cost Complexity Pruning (CCP), and visualize its effect on accuracy\n",
        "\n",
        "path = clf.cost_complexity_pruning_path(X_train, y_train)\n",
        "ccp_alphas = path.ccp_alphas[:-1]\n",
        "\n",
        "accs = []\n",
        "for alpha in ccp_alphas:\n",
        "    pruned = DecisionTreeClassifier(random_state=42, ccp_alpha=alpha)\n",
        "    pruned.fit(X_train, y_train)\n",
        "    accs.append(accuracy_score(y_test, pruned.predict(X_test)))\n",
        "\n",
        "import matplotlib.pyplot as plt\n",
        "plt.plot(ccp_alphas, accs, marker='o')\n",
        "plt.xlabel(\"ccp_alpha\")\n",
        "plt.ylabel(\"Accuracy\")\n",
        "plt.title(\"Accuracy vs CCP Alpha\")\n",
        "plt.grid(True)\n",
        "plt.show()"
      ],
      "metadata": {
        "colab": {
          "base_uri": "https://localhost:8080/",
          "height": 472
        },
        "id": "9oGjmxXVosDg",
        "outputId": "027a1acc-184b-4f90-b4e9-c963356d0027"
      },
      "execution_count": 17,
      "outputs": [
        {
          "output_type": "display_data",
          "data": {
            "text/plain": [
              "<Figure size 640x480 with 1 Axes>"
            ],
            "image/png": "[encoded data removed]"
          },
          "metadata": {}
        }
      ]
    },
    {
      "cell_type": "code",
      "source": [
        "# 28. Write a Python program to train a Decision Tree Classifier and evaluate its performance using Precision, Recall, and F1-Score\n",
        "\n",
        "\n",
        "from sklearn.metrics import precision_score, recall_score, f1_score\n",
        "\n",
        "y_pred = clf.predict(X_test)\n",
        "print(\"Precision:\", precision_score(y_test, y_pred, average='macro'))\n",
        "print(\"Recall:\", recall_score(y_test, y_pred, average='macro'))\n",
        "print(\"F1 Score:\", f1_score(y_test, y_pred, average='macro'))"
      ],
      "metadata": {
        "colab": {
          "base_uri": "https://localhost:8080/"
        },
        "id": "dpcJo5-ho_17",
        "outputId": "15df4b12-a3ce-431b-c7be-271b611fe4b7"
      },
      "execution_count": 18,
      "outputs": [
        {
          "output_type": "stream",
          "name": "stdout",
          "text": [
            "Precision: 1.0\n",
            "Recall: 1.0\n",
            "F1 Score: 1.0\n"
          ]
        }
      ]
    },
    {
      "cell_type": "code",
      "source": [
        "# 29. Write a Python program to train a Decision Tree Classifier and visualize the confusion matrix using seaborn\n",
        "\n",
        "\n",
        "from sklearn.metrics import confusion_matrix\n",
        "import seaborn as sns\n",
        "\n",
        "cm = confusion_matrix(y_test, clf.predict(X_test))\n",
        "sns.heatmap(cm, annot=True, fmt='d', cmap='Blues', xticklabels=iris.target_names, yticklabels=iris.target_names)\n",
        "plt.xlabel(\"Predicted\")\n",
        "plt.ylabel(\"Actual\")\n",
        "plt.title(\"Confusion Matrix\")\n",
        "plt.show()"
      ],
      "metadata": {
        "colab": {
          "base_uri": "https://localhost:8080/",
          "height": 472
        },
        "id": "gEDyq909pTIp",
        "outputId": "207f632a-7932-41d3-8308-d1da6910ccf8"
      },
      "execution_count": 19,
      "outputs": [
        {
          "output_type": "display_data",
          "data": {
            "text/plain": [
              "<Figure size 640x480 with 2 Axes>"
            ],
            "image/png": "[encoded data removed]"
          },
          "metadata": {}
        }
      ]
    },
    {
      "cell_type": "code",
      "source": [
        "# 30. Write a Python program to train a Decision Tree Classifier and use GridSearchCV to find the optimal values for max_depth and min_samples_split\n",
        "\n",
        "\n",
        "from sklearn.model_selection import GridSearchCV\n",
        "\n",
        "param_grid = {\n",
        "    'max_depth': [2, 3, 4, 5, None],\n",
        "    'min_samples_split': [2, 5, 10]\n",
        "}\n",
        "grid = GridSearchCV(DecisionTreeClassifier(random_state=42), param_grid, cv=5)\n",
        "grid.fit(X_train, y_train)\n",
        "\n",
        "print(\"Best Parameters:\", grid.best_params_)\n",
        "print(\"Best Accuracy:\", grid.best_score_)"
      ],
      "metadata": {
        "colab": {
          "base_uri": "https://localhost:8080/"
        },
        "id": "JaEc6T-Rpgpi",
        "outputId": "0caef2a3-0c14-40f5-92b0-29f229bfde30"
      },
      "execution_count": 20,
      "outputs": [
        {
          "output_type": "stream",
          "name": "stdout",
          "text": [
            "Best Parameters: {'max_depth': 4, 'min_samples_split': 2}\n",
            "Best Accuracy: 0.9367588932806324\n"
          ]
        }
      ]
    },
    {
      "cell_type": "code",
      "source": [],
      "metadata": {
        "id": "eSzK5U_GpqU1"
      },
      "execution_count": null,
      "outputs": []
    }
  ]
}